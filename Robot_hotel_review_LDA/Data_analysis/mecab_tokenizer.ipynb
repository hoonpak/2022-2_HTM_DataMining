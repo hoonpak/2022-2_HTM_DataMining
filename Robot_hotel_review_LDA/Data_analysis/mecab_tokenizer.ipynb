{
 "cells": [
  {
   "cell_type": "code",
   "execution_count": 3,
   "id": "ca0bcb8f",
   "metadata": {},
   "outputs": [],
   "source": [
    "from konlpy.tag import Mecab\n",
    "import pandas as pd"
   ]
  },
  {
   "cell_type": "code",
   "execution_count": 2,
   "id": "e46b193e",
   "metadata": {},
   "outputs": [],
   "source": [
    "def make_tokenized_doc(txt):\n",
    "    tokenized_doc = []\n",
    "    mecab = Mecab(dicpath=r\"C:/mecab/mecab-ko-dic\")\n",
    "    for doc in txt:\n",
    "        doc = doc.strip()\n",
    "        doc = doc.lower()\n",
    "        tokens = mecab.nouns(doc)\n",
    "        stopword=['노보']\n",
    "        words = [word for word in tokens if (word not in stopword) and len(word) > 1]\n",
    "        tokenized_doc += [words]\n",
    "    \n",
    "    return tokenized_doc"
   ]
  },
  {
   "cell_type": "code",
   "execution_count": 30,
   "id": "2b8e6d1e",
   "metadata": {},
   "outputs": [],
   "source": [
    "def save_token(hotel):\n",
    "    dataset=pd.read_csv(f\"C:\\\\Users\\\\hun98\\\\data_mining\\\\result\\\\{hotel}\\\\{hotel}_dataset.csv\")\n",
    "    del dataset['Unnamed: 0']\n",
    "    dataset=dataset.values.tolist()\n",
    "    dataset=sum(dataset,[])\n",
    "    tokens = make_tokenized_doc(dataset)\n",
    "    pd.DataFrame(tokens).to_csv(f\"C:\\\\Users\\\\hun98\\\\data_mining\\\\result\\\\{hotel}\\\\{hotel}_tokens.csv\",index=False)"
   ]
  },
  {
   "cell_type": "code",
   "execution_count": 31,
   "id": "b4001d69",
   "metadata": {},
   "outputs": [],
   "source": [
    "save_token('henna')\n",
    "save_token('lescape')\n",
    "save_token('novotel')"
   ]
  },
  {
   "cell_type": "code",
   "execution_count": null,
   "id": "357933cb",
   "metadata": {},
   "outputs": [],
   "source": []
  }
 ],
 "metadata": {
  "kernelspec": {
   "display_name": "Python 3 (ipykernel)",
   "language": "python",
   "name": "python3"
  },
  "language_info": {
   "codemirror_mode": {
    "name": "ipython",
    "version": 3
   },
   "file_extension": ".py",
   "mimetype": "text/x-python",
   "name": "python",
   "nbconvert_exporter": "python",
   "pygments_lexer": "ipython3",
   "version": "3.9.12"
  }
 },
 "nbformat": 4,
 "nbformat_minor": 5
}
