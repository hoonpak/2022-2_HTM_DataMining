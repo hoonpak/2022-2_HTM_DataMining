{
 "cells": [
  {
   "cell_type": "code",
   "execution_count": 35,
   "id": "3414cee8",
   "metadata": {},
   "outputs": [],
   "source": [
    "from selenium import webdriver\n",
    "from bs4 import BeautifulSoup as bs\n",
    "import time\n",
    "import requests\n",
    "import pandas as pd\n",
    "import numpy as np"
   ]
  },
  {
   "cell_type": "code",
   "execution_count": 36,
   "id": "f940acb5",
   "metadata": {},
   "outputs": [],
   "source": [
    "driver = webdriver.Chrome()\n",
    "driver.get(\"https://www.booking.com/reviews/kr/hotel/bian-nahoteru-souruming-dong.ko.html\")\n",
    "time.sleep(2)\n",
    "review_li=[]\n",
    "#review_list_page_container > ul > li:nth-child(4)"
   ]
  },
  {
   "cell_type": "code",
   "execution_count": 37,
   "id": "8e7c543d",
   "metadata": {
    "scrolled": true
   },
   "outputs": [],
   "source": [
    "html = driver.page_source\n",
    "soup = bs(html,'lxml')\n",
    "reviews=soup.select(\"#review_list_page_container > ul > li\")"
   ]
  },
  {
   "cell_type": "code",
   "execution_count": 43,
   "id": "f1c46e52",
   "metadata": {},
   "outputs": [],
   "source": [
    "while True:\n",
    "    try:\n",
    "        html = driver.page_source\n",
    "        soup = bs(html,'lxml')\n",
    "        reviews=soup.select(\"#review_list_page_container > ul > li\")\n",
    "\n",
    "        for review in reviews:\n",
    "            user_name=review.select_one(\"p.reviewer_name > span\").get_text()\n",
    "            point = review.select_one(\"span.review-score-badge\").get_text()\n",
    "            text = review.select_one(\"div.review_item_review_content\").get_text()\n",
    "            date = review.select_one(\"p.review_item_date\").get_text()\n",
    "            review_li.append([user_name, date, point, text])\n",
    "            \n",
    "        driver.find_element_by_id(\"review_next_page_link\").click()\n",
    "        time.sleep(5)\n",
    "    except:\n",
    "        break"
   ]
  },
  {
   "cell_type": "code",
   "execution_count": 44,
   "id": "98cad284",
   "metadata": {},
   "outputs": [
    {
     "data": {
      "text/plain": [
       "99"
      ]
     },
     "execution_count": 44,
     "metadata": {},
     "output_type": "execute_result"
    }
   ],
   "source": [
    "len(review_li)"
   ]
  },
  {
   "cell_type": "code",
   "execution_count": 45,
   "id": "00d33421",
   "metadata": {},
   "outputs": [],
   "source": [
    "booking_dot_df = pd.DataFrame(review_li, columns=['user_name','dates','point','review_texts'])"
   ]
  },
  {
   "cell_type": "code",
   "execution_count": 46,
   "id": "64c09f6f",
   "metadata": {},
   "outputs": [
    {
     "data": {
      "text/plain": [
       "(61, 4)"
      ]
     },
     "execution_count": 46,
     "metadata": {},
     "output_type": "execute_result"
    }
   ],
   "source": [
    "booking_dot_df = booking_dot_df.drop_duplicates(['review_texts'],keep = 'first')\n",
    "booking_dot_df.shape"
   ]
  },
  {
   "cell_type": "code",
   "execution_count": 48,
   "id": "9b9eeab4",
   "metadata": {},
   "outputs": [],
   "source": [
    "booking_dot_df.to_csv(\"C:\\\\Users\\\\hun98\\\\data_mining\\\\result\\\\booking_dot_henna.csv\")"
   ]
  },
  {
   "cell_type": "code",
   "execution_count": null,
   "id": "2f2998b5",
   "metadata": {},
   "outputs": [],
   "source": []
  },
  {
   "cell_type": "code",
   "execution_count": null,
   "id": "d616cdf1",
   "metadata": {},
   "outputs": [],
   "source": []
  }
 ],
 "metadata": {
  "kernelspec": {
   "display_name": "Python 3 (ipykernel)",
   "language": "python",
   "name": "python3"
  },
  "language_info": {
   "codemirror_mode": {
    "name": "ipython",
    "version": 3
   },
   "file_extension": ".py",
   "mimetype": "text/x-python",
   "name": "python",
   "nbconvert_exporter": "python",
   "pygments_lexer": "ipython3",
   "version": "3.9.12"
  }
 },
 "nbformat": 4,
 "nbformat_minor": 5
}
