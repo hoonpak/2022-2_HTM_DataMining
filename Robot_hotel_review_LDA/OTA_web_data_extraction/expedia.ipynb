{
 "cells": [
  {
   "cell_type": "code",
   "execution_count": 32,
   "id": "c99b9db2",
   "metadata": {},
   "outputs": [
    {
     "name": "stdout",
     "output_type": "stream",
     "text": [
      "Requirement already satisfied: pandas in c:\\users\\hun98\\anaconda3\\lib\\site-packages (1.4.2)\n",
      "Collecting pandas\n",
      "  Downloading pandas-1.5.1-cp39-cp39-win_amd64.whl (10.9 MB)\n",
      "Requirement already satisfied: numpy>=1.20.3 in c:\\users\\hun98\\anaconda3\\lib\\site-packages (from pandas) (1.21.5)\n",
      "Requirement already satisfied: pytz>=2020.1 in c:\\users\\hun98\\anaconda3\\lib\\site-packages (from pandas) (2021.3)\n",
      "Requirement already satisfied: python-dateutil>=2.8.1 in c:\\users\\hun98\\anaconda3\\lib\\site-packages (from pandas) (2.8.2)\n",
      "Requirement already satisfied: six>=1.5 in c:\\users\\hun98\\anaconda3\\lib\\site-packages (from python-dateutil>=2.8.1->pandas) (1.16.0)\n",
      "Installing collected packages: pandas\n",
      "  Attempting uninstall: pandas\n",
      "    Found existing installation: pandas 1.4.2\n",
      "    Uninstalling pandas-1.4.2:\n",
      "      Successfully uninstalled pandas-1.4.2\n",
      "Successfully installed pandas-1.5.1\n"
     ]
    }
   ],
   "source": [
    "from selenium import webdriver\n",
    "from selenium.webdriver.common.keys import Keys\n",
    "import time\n",
    "import urllib.request\n",
    "import pandas as pd\n",
    "import numpy as np"
   ]
  },
  {
   "cell_type": "code",
   "execution_count": 28,
   "id": "857fcba8",
   "metadata": {},
   "outputs": [],
   "source": [
    "driver = webdriver.Chrome()\n",
    "driver.get(\"https://mob.expedia.co.kr/Seoul-Hotels-LEscape-Hotel.h27247920.Hotel-Information?chkin=2022-12-06&chkout=2022-12-07&x_pwa=1&rfrr=HSR&pwa_ts=1669086063699&referrerUrl=aHR0cHM6Ly93d3cuZXhwZWRpYS5jby5rci9Ib3RlbC1TZWFyY2g%3D&useRewards=false&rm1=a2&regionId=3124&destination=%EC%84%9C%EC%9A%B8%2C+%ED%95%9C%EA%B5%AD&destType=MARKET&neighborhoodId=6049709&selected=27247920&sort=RECOMMENDED&top_dp=167112&top_cur=KRW&userIntent=&selectedRoomType=210011500&selectedRatePlan=220247629\")\n",
    "time.sleep(3)\n",
    "driver.find_element_by_class_name(\"uitk-link.uitk-spacing.uitk-spacing-padding-blockstart-two.uitk-link-align-left.uitk-link-layout-default.uitk-link-medium\").click()\n",
    "time.sleep(3)\n",
    "\n",
    "while True:\n",
    "    try:\n",
    "        driver.find_element_by_class_name(\"uitk-spacing.uitk-type-center.uitk-spacing-margin-block-three\").find_element_by_class_name(\"uitk-button.uitk-button-medium.uitk-button-has-text.uitk-button-secondary\").click()\n",
    "        time.sleep(4)\n",
    "    except:\n",
    "        break\n",
    "\n",
    "reviews = driver.find_elements_by_class_name(\"uitk-card-content-section.uitk-card-content-section-border-block-end.uitk-card-content-section-padded\")\n",
    "user_name_li=[]\n",
    "point_li=[]\n",
    "review_text_li=[]\n",
    "date_li = []"
   ]
  },
  {
   "cell_type": "code",
   "execution_count": 29,
   "id": "89420781",
   "metadata": {},
   "outputs": [],
   "source": [
    "for review in reviews:\n",
    "    point=review.find_element_by_class_name(\"uitk-heading.uitk-heading-5\").text\n",
    "    point_li.append(point)\n",
    "    user_name=review.find_element_by_class_name(\"uitk-heading.uitk-heading-7\").text\n",
    "    user_name_li.append(user_name)\n",
    "    date=review.find_element_by_class_name(\"uitk-text.uitk-type-300.uitk-text-default-theme\").text\n",
    "    date_li.append(date)\n",
    "    try:\n",
    "        re_text=review.find_element_by_class_name(\"uitk-expando-peek.uitk-spacing.uitk-spacing-padding-blockstart-two\").text\n",
    "        review_text_li.append(re_text)\n",
    "    except:\n",
    "        review_text_li.append(None)"
   ]
  },
  {
   "cell_type": "code",
   "execution_count": 30,
   "id": "904fa68f",
   "metadata": {},
   "outputs": [],
   "source": [
    "hotelscombined_df = pd.DataFrame()\n",
    "hotelscombined_df['user_name'] = user_name_li\n",
    "hotelscombined_df['ratings'] = point_li\n",
    "hotelscombined_df['dates'] = date_li\n",
    "hotelscombined_df['review_texts'] = review_text_li"
   ]
  },
  {
   "cell_type": "code",
   "execution_count": 31,
   "id": "919da6a2",
   "metadata": {},
   "outputs": [],
   "source": [
    "hotelscombined_df.to_csv(\"C:\\\\Users\\\\hun98\\\\crawling\\\\result\\\\expedia_lescape.csv\")"
   ]
  },
  {
   "cell_type": "code",
   "execution_count": null,
   "id": "8c952f1e",
   "metadata": {},
   "outputs": [],
   "source": []
  }
 ],
 "metadata": {
  "kernelspec": {
   "display_name": "Python 3 (ipykernel)",
   "language": "python",
   "name": "python3"
  },
  "language_info": {
   "codemirror_mode": {
    "name": "ipython",
    "version": 3
   },
   "file_extension": ".py",
   "mimetype": "text/x-python",
   "name": "python",
   "nbconvert_exporter": "python",
   "pygments_lexer": "ipython3",
   "version": "3.9.12"
  }
 },
 "nbformat": 4,
 "nbformat_minor": 5
}
