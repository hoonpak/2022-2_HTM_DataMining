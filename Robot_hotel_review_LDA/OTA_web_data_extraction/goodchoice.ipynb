{
 "cells": [
  {
   "cell_type": "code",
   "execution_count": 10,
   "id": "26643918",
   "metadata": {},
   "outputs": [],
   "source": [
    "from selenium import webdriver\n",
    "from bs4 import BeautifulSoup as bs\n",
    "import time\n",
    "import requests\n",
    "import pandas as pd\n",
    "import numpy as np"
   ]
  },
  {
   "cell_type": "code",
   "execution_count": 52,
   "id": "06002d29",
   "metadata": {},
   "outputs": [],
   "source": [
    "driver=webdriver.Chrome()\n",
    "driver.get(\"https://www.goodchoice.kr/product/detail?ano=68834\")\n",
    "time.sleep(5)\n",
    "driver.find_element_by_class_name(\"tab_review\").click()\n",
    "time.sleep(5)"
   ]
  },
  {
   "cell_type": "code",
   "execution_count": 54,
   "id": "2fc31b6a",
   "metadata": {},
   "outputs": [],
   "source": [
    "review_crawling=[]\n",
    "\n",
    "while True:\n",
    "    try:\n",
    "        page_bar = driver.find_element_by_class_name('paging')\n",
    "        pages = page_bar.find_elements_by_tag_name('button')\n",
    "        try:\n",
    "            if isinstance(int(pages[0].text.strip()),int) == True:\n",
    "                page_now = pages[0].text.strip()\n",
    "        except: page_now = pages[1].text.strip()\n",
    "            \n",
    "        for page in pages:\n",
    "            if page.text == '이전':\n",
    "                pass\n",
    "            elif page.text == '다음':\n",
    "                page.send_keys(\"\\n\")\n",
    "                time.sleep(5)\n",
    "            elif int(page.text.strip()) > int(page_now):\n",
    "                page.send_keys(\"\\n\")\n",
    "                time.sleep(5)\n",
    "                \n",
    "            html = driver.page_source\n",
    "            soup = bs(html,'lxml')\n",
    "            reviews=soup.select(\"#review > ul > li\")\n",
    "            for review in reviews:\n",
    "                try:\n",
    "                    user_name=review.select_one(\"div.name\").get_text().split(\" · \")[1].split(\"\\n\")[0]\n",
    "                except:\n",
    "                    user_name=None\n",
    "                point=review.select_one(\"div.num\").get_text()\n",
    "                date=review.select_one(\"span.date\").get_text()\n",
    "                txt=review.select_one(\"div.txt\").get_text()\n",
    "                review_crawling.append([user_name,point,date,txt])\n",
    "    except:\n",
    "        break"
   ]
  },
  {
   "cell_type": "code",
   "execution_count": 55,
   "id": "9c9c1241",
   "metadata": {},
   "outputs": [
    {
     "data": {
      "text/plain": [
       "145"
      ]
     },
     "execution_count": 55,
     "metadata": {},
     "output_type": "execute_result"
    }
   ],
   "source": [
    "len(review_crawling)"
   ]
  },
  {
   "cell_type": "code",
   "execution_count": 56,
   "id": "29db0298",
   "metadata": {},
   "outputs": [
    {
     "data": {
      "text/plain": [
       "(94, 4)"
      ]
     },
     "execution_count": 56,
     "metadata": {},
     "output_type": "execute_result"
    }
   ],
   "source": [
    "review_df=pd.DataFrame(review_crawling,columns=['user_name','point','date','txt'])\n",
    "review_df=review_df.drop_duplicates(['txt'],keep = 'first')\n",
    "review_df.shape"
   ]
  },
  {
   "cell_type": "code",
   "execution_count": 57,
   "id": "04bb2ca2",
   "metadata": {},
   "outputs": [],
   "source": [
    "review_df.to_csv(\"C:\\\\Users\\\\hun98\\\\crawling\\\\result\\\\goodchoice_henna.csv\")"
   ]
  },
  {
   "cell_type": "code",
   "execution_count": null,
   "id": "2d1f1dc1",
   "metadata": {},
   "outputs": [],
   "source": []
  }
 ],
 "metadata": {
  "kernelspec": {
   "display_name": "Python 3 (ipykernel)",
   "language": "python",
   "name": "python3"
  },
  "language_info": {
   "codemirror_mode": {
    "name": "ipython",
    "version": 3
   },
   "file_extension": ".py",
   "mimetype": "text/x-python",
   "name": "python",
   "nbconvert_exporter": "python",
   "pygments_lexer": "ipython3",
   "version": "3.9.12"
  }
 },
 "nbformat": 4,
 "nbformat_minor": 5
}
