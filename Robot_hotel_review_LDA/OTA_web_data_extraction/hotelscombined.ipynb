{
 "cells": [
  {
   "cell_type": "code",
   "execution_count": 39,
   "id": "6274d31e",
   "metadata": {},
   "outputs": [],
   "source": [
    "from selenium import webdriver\n",
    "from bs4 import BeautifulSoup as bs\n",
    "import time\n",
    "import requests\n",
    "import pandas as pd\n",
    "import numpy as np"
   ]
  },
  {
   "cell_type": "code",
   "execution_count": 40,
   "id": "39049886",
   "metadata": {},
   "outputs": [],
   "source": [
    "driver = webdriver.Chrome()\n",
    "driver.get(\"https://www.hotelscombined.co.kr/Hotel/LEscape_Hotel.htm\")\n",
    "time.sleep(3)\n",
    "driver.find_element_by_class_name(\"eBp2\").find_element_by_class_name(\"Iqt3-button-content\").click()\n",
    "while True:\n",
    "    try:\n",
    "        driver.find_element_by_class_name(\"Qu3l-link\").click()\n",
    "        time.sleep(3)\n",
    "    except:\n",
    "        break"
   ]
  },
  {
   "cell_type": "code",
   "execution_count": 41,
   "id": "85ea072d",
   "metadata": {},
   "outputs": [],
   "source": [
    "html = driver.page_source\n",
    "soup = bs(html,'lxml')\n",
    "reviews=soup.select(\"#hotelReviews > div > section > div.MvR7 > div.Qu3l > div.c2oma\")"
   ]
  },
  {
   "cell_type": "code",
   "execution_count": 42,
   "id": "844113e6",
   "metadata": {},
   "outputs": [],
   "source": [
    "review_li=[]\n",
    "for review in reviews:\n",
    "    user_name=review.select_one(\"div.c2oma-user-info\").get_text().split('(')[1].split(')')[0]\n",
    "    date=review.select_one(\"div.c2oma-user-info\").get_text().split('(')[0]\n",
    "    point=review.select_one(\"div.c2oma-rating\").get_text().split(\" \")[0]\n",
    "    review_texts = review.select(\"div.c2oma-review-text\")\n",
    "    txt=[]\n",
    "    for review_text in review_texts:\n",
    "        txt.append(review_text.get_text())\n",
    "    review_li.append([user_name,date,point,txt])"
   ]
  },
  {
   "cell_type": "code",
   "execution_count": 43,
   "id": "cac6605a",
   "metadata": {},
   "outputs": [],
   "source": [
    "hotelscombined_df = pd.DataFrame(review_li,columns=['user_name','date','point','txt'])"
   ]
  },
  {
   "cell_type": "code",
   "execution_count": 44,
   "id": "55593402",
   "metadata": {},
   "outputs": [],
   "source": [
    "hotelscombined_df=hotelscombined_df.drop_duplicates(['txt'],keep = 'first')"
   ]
  },
  {
   "cell_type": "code",
   "execution_count": 45,
   "id": "65e0b70a",
   "metadata": {},
   "outputs": [],
   "source": [
    "hotelscombined_df.to_csv(\"C:\\\\Users\\\\hun98\\\\data_mining\\\\result\\\\hotelscombined_lescape.csv\")"
   ]
  },
  {
   "cell_type": "code",
   "execution_count": null,
   "id": "11699d65",
   "metadata": {},
   "outputs": [],
   "source": []
  }
 ],
 "metadata": {
  "kernelspec": {
   "display_name": "Python 3 (ipykernel)",
   "language": "python",
   "name": "python3"
  },
  "language_info": {
   "codemirror_mode": {
    "name": "ipython",
    "version": 3
   },
   "file_extension": ".py",
   "mimetype": "text/x-python",
   "name": "python",
   "nbconvert_exporter": "python",
   "pygments_lexer": "ipython3",
   "version": "3.9.12"
  }
 },
 "nbformat": 4,
 "nbformat_minor": 5
}
