{
 "cells": [
  {
   "cell_type": "code",
   "execution_count": 2,
   "id": "50beadec",
   "metadata": {},
   "outputs": [],
   "source": [
    "from selenium import webdriver\n",
    "from bs4 import BeautifulSoup as bs\n",
    "import time\n",
    "import requests\n",
    "import pandas as pd\n",
    "import numpy as np\n",
    "import html5lib"
   ]
  },
  {
   "cell_type": "code",
   "execution_count": 6,
   "id": "49ee5ecb",
   "metadata": {},
   "outputs": [],
   "source": [
    "driver = webdriver.Chrome()\n",
    "driver.get(\"https://kr.trip.com/hotels/detail/?cityId=274&hotelId=71590703&checkIn=2022-11-25&checkOut=2022-11-26&adult=1&children=0&subStamp=600&crn=1&ages=&travelpurpose=0&curr=KRW&link=title&hoteluniquekey=H4sIAAAAAAAAAOPaxsjFJMEoxMTBKLWakWPGlLvLWYQ4TQzNTExMjQwMDZZyWHQmO1aLrHN_GNDl4Hn4q0ZM_6cehwCeSYzSnB4Pq0TWqSc4CIKkq0RiHZzYOTY2TOeQYJnBuP7YRKWNjLZc1xcX8IY67GBkPMD4HwYYTzBO3cO1gKnv9jOVXUwsHEDOISZmjteVp5gYLjEx3GJieMTE8IqJ4RMTwy-IdBMzQxczwyRmkKJZzAyLmBmkeJNTUo1NzUySTE0s0xIVhDTe32iaw2YkM4mRyTvoFKOIoZmZpYGJpaGFgZG5kZ5xVll-VqkVsxSjmwdjEJuBi5GFk2mUDBdzaLCLYOwdN-aK1TIOUszeQeGK627El_nLldknsWbn63oHZUzgLmBsYGTqYuQQYPRgjGCsYHzFCFIIAKlsgEA7AQAA&subChannel=&barcurr=KRW\")\n",
    "time.sleep(5)\n",
    "review_list=[]\n",
    "\n",
    "\n",
    "while True:\n",
    "    try:\n",
    "        html = driver.page_source\n",
    "        soup = bs(html,'lxml')\n",
    "        reviews=soup.select(\"#ibu_hotel_review > div > ul.tab-pane > li > div > div.m-module-bg > div.list > div\")\n",
    "        for review in reviews:\n",
    "            try:\n",
    "                user_name=review.select_one('p.name').get_text()\n",
    "            except:\n",
    "                user_name=None\n",
    "            try:\n",
    "                date=review.select_one(\"div.reviewDate\").get_text()\n",
    "            except:\n",
    "                date=None\n",
    "            try:\n",
    "                point=review.select_one(\"div.m-score_single > strong\").get_text()\n",
    "            except:\n",
    "                point=None\n",
    "            try:\n",
    "                review_text=review.select_one('div.comment p').get_text()\n",
    "            except:\n",
    "                review_text=None\n",
    "            review_list.append([user_name,date,point,review_text])\n",
    "        driver.find_element_by_xpath(\"//*[@id=\\\"ibu_hotel_review\\\"]/div/ul[2]/li/div/div[2]/div[2]/div[12]/ul/li[3]/a\").click()\n",
    "        time.sleep(5)\n",
    "    except:\n",
    "        break\n",
    "        "
   ]
  },
  {
   "cell_type": "code",
   "execution_count": 7,
   "id": "b344bdc9",
   "metadata": {},
   "outputs": [],
   "source": [
    "review_df=pd.DataFrame(review_list, columns=[\"user_name\",\"Date\",\"point\",\"review\"]).dropna()"
   ]
  },
  {
   "cell_type": "code",
   "execution_count": 9,
   "id": "f82c491a",
   "metadata": {},
   "outputs": [],
   "source": [
    "review_df.to_csv(\"C:\\\\Users\\\\hun98\\\\crawling\\\\result\\\\trip_dot_com_henna.csv\")"
   ]
  },
  {
   "cell_type": "code",
   "execution_count": null,
   "id": "d2f1505e",
   "metadata": {},
   "outputs": [],
   "source": []
  },
  {
   "cell_type": "code",
   "execution_count": null,
   "id": "1b383c8a",
   "metadata": {},
   "outputs": [],
   "source": []
  }
 ],
 "metadata": {
  "kernelspec": {
   "display_name": "Python 3 (ipykernel)",
   "language": "python",
   "name": "python3"
  },
  "language_info": {
   "codemirror_mode": {
    "name": "ipython",
    "version": 3
   },
   "file_extension": ".py",
   "mimetype": "text/x-python",
   "name": "python",
   "nbconvert_exporter": "python",
   "pygments_lexer": "ipython3",
   "version": "3.9.12"
  }
 },
 "nbformat": 4,
 "nbformat_minor": 5
}
