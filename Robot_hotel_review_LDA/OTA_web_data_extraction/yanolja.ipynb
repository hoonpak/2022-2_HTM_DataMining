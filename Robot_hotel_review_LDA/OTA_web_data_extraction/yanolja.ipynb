{
 "cells": [
  {
   "cell_type": "code",
   "execution_count": 1,
   "id": "79af8e04",
   "metadata": {},
   "outputs": [],
   "source": [
    "from selenium import webdriver\n",
    "from bs4 import BeautifulSoup as bs\n",
    "import time\n",
    "import requests\n",
    "import pandas as pd\n",
    "import numpy as np"
   ]
  },
  {
   "cell_type": "code",
   "execution_count": 119,
   "id": "9945f082",
   "metadata": {},
   "outputs": [],
   "source": [
    "driver=webdriver.Chrome()\n",
    "driver.get(\"https://place-site.yanolja.com/places/1000095518\")"
   ]
  },
  {
   "cell_type": "code",
   "execution_count": 120,
   "id": "d8c97b32",
   "metadata": {},
   "outputs": [],
   "source": [
    "SCROLL_PAUSE_TIME = 2\n",
    "\n",
    "last_height = driver.execute_script(\"return document.body.scrollHeight\")\n",
    "\n",
    "while True:\n",
    "    # Scroll down to bottom\n",
    "    driver.execute_script(\"window.scrollTo(0, document.body.scrollHeight);\")\n",
    "\n",
    "    # Wait to load page\n",
    "    time.sleep(SCROLL_PAUSE_TIME)\n",
    "\n",
    "    # Calculate new scroll height and compare with last scroll height\n",
    "    new_height = driver.execute_script(\"return document.body.scrollHeight\")\n",
    "    if new_height == last_height:\n",
    "        try:\n",
    "            driver.find_element_by_css_selector(\".mye4qd\").click()\n",
    "        except:\n",
    "            break\n",
    "    last_height = new_height"
   ]
  },
  {
   "cell_type": "code",
   "execution_count": 121,
   "id": "33d0c96f",
   "metadata": {},
   "outputs": [],
   "source": [
    "html = driver.page_source\n",
    "soup = bs(html,'lxml')"
   ]
  },
  {
   "cell_type": "code",
   "execution_count": 122,
   "id": "567bbfd5",
   "metadata": {},
   "outputs": [],
   "source": [
    "blocks=soup.select(\"#__next > div > div > main > article > div:nth-child(2) > div > div.css-17c0wg8 > div > div:nth-child(3) > div\")"
   ]
  },
  {
   "cell_type": "code",
   "execution_count": 123,
   "id": "3e6fa8ca",
   "metadata": {},
   "outputs": [],
   "source": [
    "review_li=[]\n",
    "for block in blocks:\n",
    "    reviews = block.select(\"div\")\n",
    "    for review in reviews:\n",
    "        try:\n",
    "            user_name=review.select(\"div.css-1fd7prz span\")[0].get_text()\n",
    "        except:\n",
    "            user_name=None\n",
    "        try:\n",
    "            date=review.select(\"div.css-1fd7prz span\")[1].get_text()\n",
    "        except:\n",
    "            date=None\n",
    "        point=None\n",
    "        try:\n",
    "            txt=review.select_one(\"div.css-1wnvjz2\").get_text()\n",
    "        except:\n",
    "            txt=None\n",
    "        review_li.append([user_name,date,point,txt])"
   ]
  },
  {
   "cell_type": "code",
   "execution_count": 124,
   "id": "bf3a2bd5",
   "metadata": {},
   "outputs": [
    {
     "data": {
      "text/plain": [
       "22044"
      ]
     },
     "execution_count": 124,
     "metadata": {},
     "output_type": "execute_result"
    }
   ],
   "source": [
    "len(review_li)"
   ]
  },
  {
   "cell_type": "code",
   "execution_count": 125,
   "id": "d225a627",
   "metadata": {},
   "outputs": [
    {
     "data": {
      "text/plain": [
       "(621, 4)"
      ]
     },
     "execution_count": 125,
     "metadata": {},
     "output_type": "execute_result"
    }
   ],
   "source": [
    "review_df = pd.DataFrame(review_li,columns=['user_name','date','point','txt'])\n",
    "review_df=review_df.drop_duplicates(['txt'],keep = 'first')\n",
    "review_df.shape"
   ]
  },
  {
   "cell_type": "code",
   "execution_count": 126,
   "id": "1dc37d74",
   "metadata": {},
   "outputs": [],
   "source": [
    "review_df.to_csv(\"C:\\\\Users\\\\hun98\\\\data_mining\\\\result\\\\yanolja_lescape.csv\")"
   ]
  },
  {
   "cell_type": "code",
   "execution_count": null,
   "id": "d8007fce",
   "metadata": {},
   "outputs": [],
   "source": []
  }
 ],
 "metadata": {
  "kernelspec": {
   "display_name": "Python 3 (ipykernel)",
   "language": "python",
   "name": "python3"
  },
  "language_info": {
   "codemirror_mode": {
    "name": "ipython",
    "version": 3
   },
   "file_extension": ".py",
   "mimetype": "text/x-python",
   "name": "python",
   "nbconvert_exporter": "python",
   "pygments_lexer": "ipython3",
   "version": "3.9.12"
  }
 },
 "nbformat": 4,
 "nbformat_minor": 5
}
